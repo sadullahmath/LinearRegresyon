{
  "nbformat": 4,
  "nbformat_minor": 0,
  "metadata": {
    "colab": {
      "name": "K-Nearest Neighbors.ipynb",
      "provenance": [],
      "authorship_tag": "ABX9TyO5HEcHzaTYv+IlWn2LMUsf",
      "include_colab_link": true
    },
    "kernelspec": {
      "name": "python3",
      "display_name": "Python 3"
    }
  },
  "cells": [
    {
      "cell_type": "markdown",
      "metadata": {
        "id": "view-in-github",
        "colab_type": "text"
      },
      "source": [
        "<a href=\"https://colab.research.google.com/github/sadullahmath/LinearRegresyon/blob/master/K_Nearest_Neighbors.ipynb\" target=\"_parent\"><img src=\"https://colab.research.google.com/assets/colab-badge.svg\" alt=\"Open In Colab\"/></a>"
      ]
    },
    {
      "cell_type": "markdown",
      "metadata": {
        "id": "S282K3Ke38u7",
        "colab_type": "text"
      },
      "source": [
        "# K-Nearest Neighbors with GridSearchCV to Find the Optimal Number of Neighbors"
      ]
    },
    {
      "cell_type": "code",
      "metadata": {
        "id": "KC4gHGME380-",
        "colab_type": "code",
        "colab": {}
      },
      "source": [
        "import pandas as pd\n",
        "import numpy as np\n",
        "from sklearn.linear_model import LinearRegression\n",
        "from sklearn.metrics import mean_squared_error\n",
        "from sklearn.model_selection import train_test_split"
      ],
      "execution_count": 0,
      "outputs": []
    },
    {
      "cell_type": "code",
      "metadata": {
        "id": "c5OMglDi5ofU",
        "colab_type": "code",
        "colab": {}
      },
      "source": [
        "# load data\n",
        "housing_df = pd.read_csv('https://raw.githubusercontent.com/vishalv91/capstoneproject-realestate/master/HousingData.csv')"
      ],
      "execution_count": 0,
      "outputs": []
    },
    {
      "cell_type": "code",
      "metadata": {
        "id": "Y5cRaPDC5pF4",
        "colab_type": "code",
        "colab": {}
      },
      "source": [
        "# drop null values\n",
        "housing_df = housing_df.dropna()"
      ],
      "execution_count": 0,
      "outputs": []
    },
    {
      "cell_type": "code",
      "metadata": {
        "id": "r9CBOy1V5pOn",
        "colab_type": "code",
        "colab": {}
      },
      "source": [
        "# declare X and y\n",
        "X = housing_df.iloc[:,:-1]\n",
        "y = housing_df.iloc[:, -1]"
      ],
      "execution_count": 0,
      "outputs": []
    },
    {
      "cell_type": "code",
      "metadata": {
        "id": "rflzYsWx58wj",
        "colab_type": "code",
        "colab": {}
      },
      "source": [
        "def regression_model(model):\n",
        "  # Create training and test sets\n",
        "  X_train, X_test, y_train, y_test = train_test_split(X, y, test_size = 0.2)\n",
        "  # Create the regressor: reg_all \n",
        "  reg_all = model\n",
        "  # Fit the regressor to the training data\n",
        "  reg_all.fit(X_train, y_train)\n",
        "  # Predict on the test data: y_pred\n",
        "  y_pred = reg_all.predict(X_test)\n",
        "  # Compute and print RMSE\n",
        "  rmse = np.sqrt(mean_squared_error(y_test, y_pred))\n",
        "  print(\"Root Mean Squared Error: {}\".format(rmse))"
      ],
      "execution_count": 0,
      "outputs": []
    },
    {
      "cell_type": "code",
      "metadata": {
        "id": "f2KvP1Fi58zV",
        "colab_type": "code",
        "colab": {
          "base_uri": "https://localhost:8080/",
          "height": 34
        },
        "outputId": "cbcccd0a-e701-4d7a-b64f-f8240abb4ae3"
      },
      "source": [
        "regression_model(LinearRegression())"
      ],
      "execution_count": 6,
      "outputs": [
        {
          "output_type": "stream",
          "text": [
            "Root Mean Squared Error: 6.275747570591628\n"
          ],
          "name": "stdout"
        }
      ]
    },
    {
      "cell_type": "code",
      "metadata": {
        "id": "T6uCYI5C5pXF",
        "colab_type": "code",
        "colab": {
          "base_uri": "https://localhost:8080/",
          "height": 34
        },
        "outputId": "51ef99e9-73f7-4719-abc0-1c139c46d4ec"
      },
      "source": [
        "regression_model(LinearRegression())"
      ],
      "execution_count": 7,
      "outputs": [
        {
          "output_type": "stream",
          "text": [
            "Root Mean Squared Error: 4.244219810135847\n"
          ],
          "name": "stdout"
        }
      ]
    },
    {
      "cell_type": "code",
      "metadata": {
        "id": "sjcZPSyD6Ld5",
        "colab_type": "code",
        "colab": {
          "base_uri": "https://localhost:8080/",
          "height": 34
        },
        "outputId": "5b95a733-67ed-4148-adb0-daa0dd1f7e95"
      },
      "source": [
        "regression_model(LinearRegression())"
      ],
      "execution_count": 8,
      "outputs": [
        {
          "output_type": "stream",
          "text": [
            "Root Mean Squared Error: 4.5046996428171\n"
          ],
          "name": "stdout"
        }
      ]
    },
    {
      "cell_type": "markdown",
      "metadata": {
        "id": "PgJNTVPy6dEx",
        "colab_type": "text"
      },
      "source": [
        "The scores are different because we are splitting the data into a different training set and test set each time. Since the splitting of data happens randomly each time due to lack of random state parameter, therefore the model is based on different training sets. Furthermore, it's being scored against a different test set."
      ]
    },
    {
      "cell_type": "code",
      "metadata": {
        "id": "fcQpmfHNCDLm",
        "colab_type": "code",
        "colab": {}
      },
      "source": [
        "from sklearn.model_selection import GridSearchCV"
      ],
      "execution_count": 0,
      "outputs": []
    },
    {
      "cell_type": "code",
      "metadata": {
        "id": "I9gU7IUcCDOI",
        "colab_type": "code",
        "colab": {}
      },
      "source": [
        "neighbors = np.linspace(1, 20, 20)"
      ],
      "execution_count": 0,
      "outputs": []
    },
    {
      "cell_type": "code",
      "metadata": {
        "id": "jz253UxqCDQu",
        "colab_type": "code",
        "colab": {}
      },
      "source": [
        "k = neighbors.astype(int)"
      ],
      "execution_count": 0,
      "outputs": []
    },
    {
      "cell_type": "code",
      "metadata": {
        "id": "-ZSGMDg0CKqi",
        "colab_type": "code",
        "colab": {}
      },
      "source": [
        "param_grid = {'n_neighbors': k}"
      ],
      "execution_count": 0,
      "outputs": []
    },
    {
      "cell_type": "code",
      "metadata": {
        "id": "pUB4GqisCKs-",
        "colab_type": "code",
        "colab": {}
      },
      "source": [
        "from sklearn.neighbors import KNeighborsRegressor\n",
        "knn = KNeighborsRegressor()"
      ],
      "execution_count": 0,
      "outputs": []
    },
    {
      "cell_type": "code",
      "metadata": {
        "id": "EMXvbvsZCKvF",
        "colab_type": "code",
        "colab": {}
      },
      "source": [
        "knn_tuned = GridSearchCV(knn, param_grid, cv=5, scoring='neg_mean_squared_error')"
      ],
      "execution_count": 0,
      "outputs": []
    },
    {
      "cell_type": "code",
      "metadata": {
        "id": "8ZrujtK9Cwzr",
        "colab_type": "code",
        "colab": {
          "base_uri": "https://localhost:8080/",
          "height": 204
        },
        "outputId": "36b355c6-52dd-428b-d293-ed4180c354fb"
      },
      "source": [
        "knn_tuned.fit(X, y)"
      ],
      "execution_count": 16,
      "outputs": [
        {
          "output_type": "execute_result",
          "data": {
            "text/plain": [
              "GridSearchCV(cv=5, error_score=nan,\n",
              "             estimator=KNeighborsRegressor(algorithm='auto', leaf_size=30,\n",
              "                                           metric='minkowski',\n",
              "                                           metric_params=None, n_jobs=None,\n",
              "                                           n_neighbors=5, p=2,\n",
              "                                           weights='uniform'),\n",
              "             iid='deprecated', n_jobs=None,\n",
              "             param_grid={'n_neighbors': array([ 1,  2,  3,  4,  5,  6,  7,  8,  9, 10, 11, 12, 13, 14, 15, 16, 17,\n",
              "       18, 19, 20])},\n",
              "             pre_dispatch='2*n_jobs', refit=True, return_train_score=False,\n",
              "             scoring='neg_mean_squared_error', verbose=0)"
            ]
          },
          "metadata": {
            "tags": []
          },
          "execution_count": 16
        }
      ]
    },
    {
      "cell_type": "code",
      "metadata": {
        "id": "rNtHEWR2Cw2X",
        "colab_type": "code",
        "colab": {
          "base_uri": "https://localhost:8080/",
          "height": 51
        },
        "outputId": "bb7988a6-7cda-4c5e-d086-edb0cb0d20a7"
      },
      "source": [
        "k = knn_tuned.best_params_\n",
        "print(\"Best n_neighbors: {}\".format(k))\n",
        "score = knn_tuned.best_score_\n",
        "rsm = np.sqrt(-score)\n",
        "print(\"Best score: {}\".format(rsm))"
      ],
      "execution_count": 17,
      "outputs": [
        {
          "output_type": "stream",
          "text": [
            "Best n_neighbors: {'n_neighbors': 7}\n",
            "Best score: 8.516767055977628\n"
          ],
          "name": "stdout"
        }
      ]
    }
  ]
}