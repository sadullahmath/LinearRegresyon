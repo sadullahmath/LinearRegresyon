{
  "nbformat": 4,
  "nbformat_minor": 0,
  "metadata": {
    "colab": {
      "name": "SpamDedectorODEV.ipynb",
      "provenance": [],
      "mount_file_id": "1IGJChmcWTSSogPGVm4HXP-oWlLU4fFz_",
      "authorship_tag": "ABX9TyPxPx4iT5WGvdVvsmpmmn0m",
      "include_colab_link": true
    },
    "kernelspec": {
      "name": "python3",
      "display_name": "Python 3"
    }
  },
  "cells": [
    {
      "cell_type": "markdown",
      "metadata": {
        "id": "view-in-github",
        "colab_type": "text"
      },
      "source": [
        "<a href=\"https://colab.research.google.com/github/sadullahmath/LinearRegresyon/blob/master/SpamMailDedector.ipynb\" target=\"_parent\"><img src=\"https://colab.research.google.com/assets/colab-badge.svg\" alt=\"Open In Colab\"/></a>"
      ]
    },
    {
      "cell_type": "code",
      "metadata": {
        "id": "jyG9AnsZzdZM",
        "colab_type": "code",
        "outputId": "2b820b00-e1aa-4280-c2aa-69a9fd8b2f95",
        "colab": {
          "base_uri": "https://localhost:8080/",
          "height": 255
        }
      },
      "source": [
        "import pandas as pd\n",
        "file_url= 'https://raw.githubusercontent.com/PacktWorkshops/The-Data-Science-Workshop/master/Chapter01/Dataset/dataset_44_spambase.csv'\n",
        "df = pd.read_csv (file_url)\n",
        "print(df)"
      ],
      "execution_count": 4,
      "outputs": [
        {
          "output_type": "stream",
          "text": [
            "      word_freq_make  word_freq_address  ...  capital_run_length_total  class\n",
            "0               0.00               0.64  ...                       278      1\n",
            "1               0.21               0.28  ...                      1028      1\n",
            "2               0.06               0.00  ...                      2259      1\n",
            "3               0.00               0.00  ...                       191      1\n",
            "4               0.00               0.00  ...                       191      1\n",
            "...              ...                ...  ...                       ...    ...\n",
            "4596            0.31               0.00  ...                        88      0\n",
            "4597            0.00               0.00  ...                        14      0\n",
            "4598            0.30               0.00  ...                       118      0\n",
            "4599            0.96               0.00  ...                        78      0\n",
            "4600            0.00               0.00  ...                        40      0\n",
            "\n",
            "[4601 rows x 58 columns]\n"
          ],
          "name": "stdout"
        }
      ]
    },
    {
      "cell_type": "code",
      "metadata": {
        "id": "cAKHxSF442Cw",
        "colab_type": "code",
        "colab": {}
      },
      "source": [
        "target= df.pop('class')"
      ],
      "execution_count": 0,
      "outputs": []
    },
    {
      "cell_type": "code",
      "metadata": {
        "id": "t3cwQ3-R42Im",
        "colab_type": "code",
        "colab": {
          "base_uri": "https://localhost:8080/",
          "height": 221
        },
        "outputId": "ebc03143-d6b9-4188-ecb7-c93cb6c7911b"
      },
      "source": [
        "print(target)"
      ],
      "execution_count": 6,
      "outputs": [
        {
          "output_type": "stream",
          "text": [
            "0       1\n",
            "1       1\n",
            "2       1\n",
            "3       1\n",
            "4       1\n",
            "       ..\n",
            "4596    0\n",
            "4597    0\n",
            "4598    0\n",
            "4599    0\n",
            "4600    0\n",
            "Name: class, Length: 4601, dtype: int64\n"
          ],
          "name": "stdout"
        }
      ]
    },
    {
      "cell_type": "code",
      "metadata": {
        "id": "LTx0BD_M3xsO",
        "colab_type": "code",
        "colab": {}
      },
      "source": [
        "from sklearn.ensemble import RandomForestClassifier"
      ],
      "execution_count": 0,
      "outputs": []
    },
    {
      "cell_type": "code",
      "metadata": {
        "id": "TJG-Pv1n5ZEC",
        "colab_type": "code",
        "colab": {}
      },
      "source": [
        "seed= 168"
      ],
      "execution_count": 0,
      "outputs": []
    },
    {
      "cell_type": "code",
      "metadata": {
        "id": "7gJB9t3t5ZGx",
        "colab_type": "code",
        "colab": {}
      },
      "source": [
        "rf_model= RandomForestClassifier(random_state= seed)"
      ],
      "execution_count": 0,
      "outputs": []
    },
    {
      "cell_type": "code",
      "metadata": {
        "id": "AwyFopvl5qfz",
        "colab_type": "code",
        "colab": {
          "base_uri": "https://localhost:8080/",
          "height": 153
        },
        "outputId": "08128c25-7a3c-4279-a602-3c1c4801e888"
      },
      "source": [
        "rf_model.fit(df, target)"
      ],
      "execution_count": 10,
      "outputs": [
        {
          "output_type": "execute_result",
          "data": {
            "text/plain": [
              "RandomForestClassifier(bootstrap=True, ccp_alpha=0.0, class_weight=None,\n",
              "                       criterion='gini', max_depth=None, max_features='auto',\n",
              "                       max_leaf_nodes=None, max_samples=None,\n",
              "                       min_impurity_decrease=0.0, min_impurity_split=None,\n",
              "                       min_samples_leaf=1, min_samples_split=2,\n",
              "                       min_weight_fraction_leaf=0.0, n_estimators=100,\n",
              "                       n_jobs=None, oob_score=False, random_state=168,\n",
              "                       verbose=0, warm_start=False)"
            ]
          },
          "metadata": {
            "tags": []
          },
          "execution_count": 10
        }
      ]
    },
    {
      "cell_type": "code",
      "metadata": {
        "id": "-aVUfNMm5qit",
        "colab_type": "code",
        "colab": {}
      },
      "source": [
        "preds= rf_model.predict(df)"
      ],
      "execution_count": 0,
      "outputs": []
    },
    {
      "cell_type": "code",
      "metadata": {
        "id": "cMMB75T_6G9R",
        "colab_type": "code",
        "colab": {
          "base_uri": "https://localhost:8080/",
          "height": 34
        },
        "outputId": "be6f19ad-fa22-461b-f72b-b97c50699b1e"
      },
      "source": [
        "preds  # or print(preds)"
      ],
      "execution_count": 13,
      "outputs": [
        {
          "output_type": "execute_result",
          "data": {
            "text/plain": [
              "array([1, 1, 1, ..., 0, 0, 0])"
            ]
          },
          "metadata": {
            "tags": []
          },
          "execution_count": 13
        }
      ]
    },
    {
      "cell_type": "code",
      "metadata": {
        "id": "nEc7VxcD6MSB",
        "colab_type": "code",
        "colab": {}
      },
      "source": [
        "from sklearn.metrics import accuracy_score"
      ],
      "execution_count": 0,
      "outputs": []
    },
    {
      "cell_type": "code",
      "metadata": {
        "id": "WgWBON3N6MVp",
        "colab_type": "code",
        "colab": {}
      },
      "source": [
        "acc_score= accuracy_score( target, preds)"
      ],
      "execution_count": 0,
      "outputs": []
    },
    {
      "cell_type": "code",
      "metadata": {
        "id": "mtm28Vt66Mbk",
        "colab_type": "code",
        "colab": {
          "base_uri": "https://localhost:8080/",
          "height": 34
        },
        "outputId": "0fb86523-77dd-4097-ec00-ad47fe6b99c8"
      },
      "source": [
        "acc_score   # or print(acc_score)"
      ],
      "execution_count": 16,
      "outputs": [
        {
          "output_type": "execute_result",
          "data": {
            "text/plain": [
              "0.9993479678330798"
            ]
          },
          "metadata": {
            "tags": []
          },
          "execution_count": 16
        }
      ]
    }
  ]
}