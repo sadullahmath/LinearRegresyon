{
  "nbformat": 4,
  "nbformat_minor": 0,
  "metadata": {
    "colab": {
      "name": "Log-Linear-Model .ipynb",
      "provenance": [],
      "authorship_tag": "ABX9TyOeL+x9HqNOwB8wqKCfPmV8",
      "include_colab_link": true
    },
    "kernelspec": {
      "name": "python3",
      "display_name": "Python 3"
    }
  },
  "cells": [
    {
      "cell_type": "markdown",
      "metadata": {
        "id": "view-in-github",
        "colab_type": "text"
      },
      "source": [
        "<a href=\"https://colab.research.google.com/github/sadullahmath/LinearRegresyon/blob/master/Log_Linear_Model_.ipynb\" target=\"_parent\"><img src=\"https://colab.research.google.com/assets/colab-badge.svg\" alt=\"Open In Colab\"/></a>"
      ]
    },
    {
      "cell_type": "code",
      "metadata": {
        "id": "Rh0ToMSXZZa1",
        "colab_type": "code",
        "colab": {
          "base_uri": "https://localhost:8080/",
          "height": 51
        },
        "outputId": "f7640003-13da-4e30-a06f-f03791d58e82"
      },
      "source": [
        "import pandas as pd\n",
        "import numpy as np\n",
        "import statsmodels.formula.api as smf\n",
        "from sklearn.model_selection import train_test_split"
      ],
      "execution_count": 1,
      "outputs": [
        {
          "output_type": "stream",
          "text": [
            "/usr/local/lib/python3.6/dist-packages/statsmodels/tools/_testing.py:19: FutureWarning: pandas.util.testing is deprecated. Use the functions in the public API at pandas.testing instead.\n",
            "  import pandas.util.testing as tm\n"
          ],
          "name": "stderr"
        }
      ]
    },
    {
      "cell_type": "code",
      "metadata": {
        "id": "JqHvznzVzs97",
        "colab_type": "code",
        "colab": {}
      },
      "source": [
        "rawBostonData = pd.read_csv('https://raw.githubusercontent.com/PacktWorkshops/The-Data-Science-Workshop/master/Chapter02/Dataset/Boston.csv')"
      ],
      "execution_count": 0,
      "outputs": []
    },
    {
      "cell_type": "code",
      "metadata": {
        "id": "w-4tlxnvztEw",
        "colab_type": "code",
        "colab": {}
      },
      "source": [
        "rawBostonData = rawBostonData.dropna()"
      ],
      "execution_count": 0,
      "outputs": []
    },
    {
      "cell_type": "code",
      "metadata": {
        "id": "q4GcUmhXztHv",
        "colab_type": "code",
        "colab": {}
      },
      "source": [
        "rawBostonData = rawBostonData.drop_duplicates()"
      ],
      "execution_count": 0,
      "outputs": []
    },
    {
      "cell_type": "code",
      "metadata": {
        "id": "rDDuzqFKZZdZ",
        "colab_type": "code",
        "colab": {}
      },
      "source": [
        "renamedBostonData = rawBostonData.rename(columns = {'CRIM':'crimeRatePerCapita', \n",
        "  ' ZN ':'landOver25K_sqft', \n",
        "  'INDUS ':'non-retailLandProptn', \n",
        "  'CHAS':'riverDummy', \n",
        "  'NOX':'nitrixOxide_pp10m', \n",
        "  'RM':'AvgNo.RoomsPerDwelling', \n",
        "  'AGE':'ProptnOwnerOccupied', \n",
        "  'DIS':'weightedDist', \n",
        "  'RAD':'radialHighwaysAccess', \n",
        "  'TAX':'propTaxRate_per10K', \n",
        "  'PTRATIO':'pupilTeacherRatio', \n",
        "  'LSTAT':'pctLowerStatus', \n",
        "  'MEDV':'medianValue_Ks'}) "
      ],
      "execution_count": 0,
      "outputs": []
    },
    {
      "cell_type": "code",
      "metadata": {
        "id": "WCxm_TOaZZjF",
        "colab_type": "code",
        "colab": {}
      },
      "source": [
        "X = renamedBostonData.drop('crimeRatePerCapita', axis = 1)\n",
        "y = renamedBostonData[['crimeRatePerCapita']]\n",
        "seed = 10\n",
        "test_data_size = 0.3\n",
        "X_train, X_test, y_train, y_test = train_test_split(X, y, test_size = test_data_size, random_state = seed)\n",
        "train_data = pd.concat([X_train, y_train], axis = 1)\n",
        "test_data = pd.concat([X_test, y_test], axis = 1)"
      ],
      "execution_count": 0,
      "outputs": []
    },
    {
      "cell_type": "code",
      "metadata": {
        "id": "pYENjL020hCy",
        "colab_type": "code",
        "colab": {}
      },
      "source": [
        "logLinearModel = smf.ols(formula='np.log(crimeRatePerCapita) ~ medianValue_Ks', data= train_data)"
      ],
      "execution_count": 0,
      "outputs": []
    },
    {
      "cell_type": "code",
      "metadata": {
        "id": "PUyau77e0hFf",
        "colab_type": "code",
        "colab": {}
      },
      "source": [
        "logLinearModResult = logLinearModel.fit()"
      ],
      "execution_count": 0,
      "outputs": []
    },
    {
      "cell_type": "code",
      "metadata": {
        "id": "7_J_SF071BEB",
        "colab_type": "code",
        "colab": {
          "base_uri": "https://localhost:8080/",
          "height": 442
        },
        "outputId": "32e9be6b-732d-4315-afa2-3e5fb2748456"
      },
      "source": [
        "print(logLinearModResult.summary())"
      ],
      "execution_count": 9,
      "outputs": [
        {
          "output_type": "stream",
          "text": [
            "                                OLS Regression Results                                \n",
            "======================================================================================\n",
            "Dep. Variable:     np.log(crimeRatePerCapita)   R-squared:                       0.238\n",
            "Model:                                    OLS   Adj. R-squared:                  0.236\n",
            "Method:                         Least Squares   F-statistic:                     109.9\n",
            "Date:                        Thu, 30 Apr 2020   Prob (F-statistic):           1.48e-22\n",
            "Time:                                20:43:03   Log-Likelihood:                -727.67\n",
            "No. Observations:                         354   AIC:                             1459.\n",
            "Df Residuals:                             352   BIC:                             1467.\n",
            "Df Model:                                   1                                         \n",
            "Covariance Type:                    nonrobust                                         \n",
            "==================================================================================\n",
            "                     coef    std err          t      P>|t|      [0.025      0.975]\n",
            "----------------------------------------------------------------------------------\n",
            "Intercept          1.9107      0.271      7.062      0.000       1.379       2.443\n",
            "medianValue_Ks    -0.1198      0.011    -10.482      0.000      -0.142      -0.097\n",
            "==============================================================================\n",
            "Omnibus:                       11.420   Durbin-Watson:                   1.907\n",
            "Prob(Omnibus):                  0.003   Jarque-Bera (JB):               10.764\n",
            "Skew:                           0.376   Prob(JB):                      0.00460\n",
            "Kurtosis:                       2.594   Cond. No.                         63.7\n",
            "==============================================================================\n",
            "\n",
            "Warnings:\n",
            "[1] Standard Errors assume that the covariance matrix of the errors is correctly specified.\n"
          ],
          "name": "stdout"
        }
      ]
    }
  ]
}