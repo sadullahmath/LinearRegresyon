{
  "nbformat": 4,
  "nbformat_minor": 0,
  "metadata": {
    "colab": {
      "name": "RegresyonLogaritmic.ipynb",
      "provenance": [],
      "authorship_tag": "ABX9TyNKKKq+cB01wUy/qsmf93sd",
      "include_colab_link": true
    },
    "kernelspec": {
      "name": "python3",
      "display_name": "Python 3"
    }
  },
  "cells": [
    {
      "cell_type": "markdown",
      "metadata": {
        "id": "view-in-github",
        "colab_type": "text"
      },
      "source": [
        "<a href=\"https://colab.research.google.com/github/sadullahmath/LinearRegresyon/blob/master/RegresyonLogaritmic.ipynb\" target=\"_parent\"><img src=\"https://colab.research.google.com/assets/colab-badge.svg\" alt=\"Open In Colab\"/></a>"
      ]
    },
    {
      "cell_type": "code",
      "metadata": {
        "id": "z1p8PNdqDf2o",
        "colab_type": "code",
        "colab": {
          "base_uri": "https://localhost:8080/",
          "height": 51
        },
        "outputId": "19ece290-bac0-453c-e449-e300fcf6add3"
      },
      "source": [
        "import pandas as pd\n",
        "import numpy as np\n",
        "import statsmodels.formula.api as smf\n",
        "from sklearn.model_selection import train_test_split"
      ],
      "execution_count": 1,
      "outputs": [
        {
          "output_type": "stream",
          "text": [
            "/usr/local/lib/python3.6/dist-packages/statsmodels/tools/_testing.py:19: FutureWarning: pandas.util.testing is deprecated. Use the functions in the public API at pandas.testing instead.\n",
            "  import pandas.util.testing as tm\n"
          ],
          "name": "stderr"
        }
      ]
    },
    {
      "cell_type": "code",
      "metadata": {
        "id": "BlzNjChpFOsg",
        "colab_type": "code",
        "colab": {}
      },
      "source": [
        "rawBostonData = pd.read_csv('https://raw.githubusercontent.com/PacktWorkshops/The-Data-Science-Workshop/master/Chapter02/Dataset/Boston.csv')"
      ],
      "execution_count": 0,
      "outputs": []
    },
    {
      "cell_type": "code",
      "metadata": {
        "id": "gO_OnHlWFTmN",
        "colab_type": "code",
        "colab": {}
      },
      "source": [
        "rawBostonData = rawBostonData.dropna()"
      ],
      "execution_count": 0,
      "outputs": []
    },
    {
      "cell_type": "code",
      "metadata": {
        "id": "iZ_0IUduFTow",
        "colab_type": "code",
        "colab": {}
      },
      "source": [
        "rawBostonData = rawBostonData.drop_duplicates()"
      ],
      "execution_count": 0,
      "outputs": []
    },
    {
      "cell_type": "code",
      "metadata": {
        "id": "CT2UcMtdFXpg",
        "colab_type": "code",
        "colab": {
          "base_uri": "https://localhost:8080/",
          "height": 129
        },
        "outputId": "c9540783-eaf8-4aaa-fa8c-2bd68b1857f4"
      },
      "source": [
        "renamedBostonData = rawBostonData.rename(columns =\n",
        "{'CRIM':'crimeRatePerCapita', \n",
        "  ' ZN ':'landOver25K_sqft', \n",
        "  'INDUS ':'non-retailLandProptn', \n",
        "  'CHAS':'riverDummy', \n",
        "  'NOX':'nitrixOxide_pp10m', \n",
        "  'RM':'AvgNo.RoomsPerDwelling', \n",
        "  'AGE':'ProptnOwnerOccupied', \n",
        "  'DIS':'weightedDist', \n",
        "  'RAD':'radialHighwaysAccess', \n",
        "  'TAX':'propTaxRate_per10K', \n",
        "  'PTRATIO':'pupilTeacherRatio', \n",
        "  'LSTAT':'pctLowerStatus', \n",
        "  'MEDV':'medianValue_Ks'}) \n",
        "  renamedBostonData.head() "
      ],
      "execution_count": 6,
      "outputs": [
        {
          "output_type": "error",
          "ename": "IndentationError",
          "evalue": "ignored",
          "traceback": [
            "\u001b[0;36m  File \u001b[0;32m\"<ipython-input-6-80e9601246ee>\"\u001b[0;36m, line \u001b[0;32m15\u001b[0m\n\u001b[0;31m    renamedBostonData.head()\u001b[0m\n\u001b[0m    ^\u001b[0m\n\u001b[0;31mIndentationError\u001b[0m\u001b[0;31m:\u001b[0m unexpected indent\n"
          ]
        }
      ]
    },
    {
      "cell_type": "code",
      "metadata": {
        "id": "XRndOuCAFZz_",
        "colab_type": "code",
        "colab": {}
      },
      "source": [
        "X = renamedBostonData.drop('crimeRatePerCapita', axis = 1) \n",
        "y = renamedBostonData[['crimeRatePerCapita']] \n",
        "seed = 10 \n",
        "test_data_size = 0.3 \n",
        "X_train, X_test, y_train, y_test = train_test_split(X, y, test_size = test_data_size, random_state = seed) \n",
        "train_data = pd.concat([X_train, y_train], axis = 1) \n",
        "test_data = pd.concat([X_test, y_test], axis = 1) "
      ],
      "execution_count": 0,
      "outputs": []
    },
    {
      "cell_type": "code",
      "metadata": {
        "id": "44vutWP_FciS",
        "colab_type": "code",
        "colab": {}
      },
      "source": [
        "multiLogLinMod = smf.ols(formula=\\\n",
        "'np.log(crimeRatePerCapita) ~ \\\n",
        "(pctLowerStatus + radialHighwaysAccess + medianValue_Ks + nitrixOxide_pp10m)**2',\\\n",
        "data=train_data)"
      ],
      "execution_count": 0,
      "outputs": []
    },
    {
      "cell_type": "code",
      "metadata": {
        "id": "Shnr4cBVFdCc",
        "colab_type": "code",
        "colab": {}
      },
      "source": [
        "multiLogLinModResult = multiLogLinMod.fit()"
      ],
      "execution_count": 0,
      "outputs": []
    },
    {
      "cell_type": "code",
      "metadata": {
        "id": "HjXoLUiHFdHZ",
        "colab_type": "code",
        "colab": {}
      },
      "source": [
        "print(multiLogLinModResult.summary())"
      ],
      "execution_count": 0,
      "outputs": []
    }
  ]
}