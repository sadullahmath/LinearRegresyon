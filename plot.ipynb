{
  "nbformat": 4,
  "nbformat_minor": 0,
  "metadata": {
    "colab": {
      "name": "plot.ipynb",
      "provenance": [],
      "authorship_tag": "ABX9TyNUC9Xx4Qotqk/IysKKmDSQ",
      "include_colab_link": true
    },
    "kernelspec": {
      "name": "python3",
      "display_name": "Python 3"
    }
  },
  "cells": [
    {
      "cell_type": "markdown",
      "metadata": {
        "id": "view-in-github",
        "colab_type": "text"
      },
      "source": [
        "<a href=\"https://colab.research.google.com/github/sadullahmath/LinearRegresyon/blob/master/plot.ipynb\" target=\"_parent\"><img src=\"https://colab.research.google.com/assets/colab-badge.svg\" alt=\"Open In Colab\"/></a>"
      ]
    },
    {
      "cell_type": "code",
      "metadata": {
        "id": "UvgM3EYIUYUs",
        "colab_type": "code",
        "colab": {}
      },
      "source": [
        "# Importing library files\n",
        "import matplotlib.pyplot as plt\n",
        "import numpy as np"
      ],
      "execution_count": 0,
      "outputs": []
    },
    {
      "cell_type": "code",
      "metadata": {
        "id": "o9liPXvzUkke",
        "colab_type": "code",
        "colab": {}
      },
      "source": [
        "# Create a simple list of categories\n",
        "jobList = ['admin','scientist','doctor','management']"
      ],
      "execution_count": 0,
      "outputs": []
    },
    {
      "cell_type": "code",
      "metadata": {
        "id": "Aj41VTJ-Ukry",
        "colab_type": "code",
        "colab": {}
      },
      "source": [
        "# Getting two categories ( 'yes','No') for each of jobs\n",
        "jobYes = [20,60,70,40]\n",
        "jobNo = [80,40,30,60]"
      ],
      "execution_count": 0,
      "outputs": []
    },
    {
      "cell_type": "code",
      "metadata": {
        "id": "xk_vo3EwUkuP",
        "colab_type": "code",
        "colab": {}
      },
      "source": [
        "# Get the length of x axis labels and arranging its indexes\n",
        "xlabels = len(jobList)\n",
        "ind = np.arange(xlabels)"
      ],
      "execution_count": 0,
      "outputs": []
    },
    {
      "cell_type": "code",
      "metadata": {
        "id": "5SKaPskZUkwx",
        "colab_type": "code",
        "colab": {
          "base_uri": "https://localhost:8080/",
          "height": 265
        },
        "outputId": "8feb3fa5-db95-4d15-d900-f8530f692fec"
      },
      "source": [
        "# Get width of each bar\n",
        "width = 0.35\n",
        "\n",
        "# Getting the plots\n",
        "p1 = plt.bar(ind, jobYes, width)\n",
        "p2 = plt.bar(ind, jobNo, width, bottom=jobYes)"
      ],
      "execution_count": 5,
      "outputs": [
        {
          "output_type": "display_data",
          "data": {
            "image/png": "[encoded data removed]",
            "text/plain": [
              "<Figure size 432x288 with 1 Axes>"
            ]
          },
          "metadata": {
            "tags": [],
            "needs_background": "light"
          }
        }
      ]
    },
    {
      "cell_type": "code",
      "metadata": {
        "id": "7hRy8RVbUuqB",
        "colab_type": "code",
        "colab": {
          "base_uri": "https://localhost:8080/",
          "height": 338
        },
        "outputId": "019ee895-658f-4cfa-e860-ef139bf013ac"
      },
      "source": [
        "# Getting the labels for the plots \n",
        "plt.ylabel('Proportion of Jobs')\n",
        "plt.title('Job')\n",
        "# Defining the x label indexes and y label indexes\n",
        "plt.xticks(ind, jobList)\n",
        "plt.yticks(np.arange(0, 100, 10))\n",
        "# Defining the legends\n",
        "plt.legend((p1[0], p2[0]), ('Yes', 'No'))\n",
        "# To rotate the axis labels\n",
        "plt.xticks(rotation=90)\n",
        "plt.show()"
      ],
      "execution_count": 10,
      "outputs": [
        {
          "output_type": "display_data",
          "data": {
            "image/png": "[encoded data removed]",
            "text/plain": [
              "<Figure size 432x288 with 1 Axes>"
            ]
          },
          "metadata": {
            "tags": [],
            "needs_background": "light"
          }
        }
      ]
    }
  ]
}